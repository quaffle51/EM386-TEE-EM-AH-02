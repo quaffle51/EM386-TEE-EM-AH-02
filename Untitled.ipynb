{
 "cells": [
  {
   "cell_type": "code",
   "execution_count": 1,
   "metadata": {},
   "outputs": [],
   "source": [
    " g    = [x**0, \n",
    "         x-1,\n",
    "         x**2 + x + 1, \n",
    "         x**6 + x**3 + 1,\n",
    "         x**3 + 1,\n",
    "         x**7 - x**6 + x**4 - x**3 + x - 1,\n",
    "         x**8 + x**7 + x**6 + x**5 + x**4 - x**3 + x**2 + x + 1,\n",
    "         x**9 - 1]"
   ]
  },
  {
   "cell_type": "code",
   "execution_count": 2,
   "metadata": {},
   "outputs": [
    {
     "data": {
      "text/plain": [
       "1"
      ]
     },
     "execution_count": 2,
     "metadata": {},
     "output_type": "execute_result"
    }
   ],
   "source": [
    "g[0]"
   ]
  },
  {
   "cell_type": "code",
   "execution_count": 3,
   "metadata": {},
   "outputs": [
    {
     "data": {
      "text/plain": [
       "x - 1"
      ]
     },
     "execution_count": 3,
     "metadata": {},
     "output_type": "execute_result"
    }
   ],
   "source": [
    "g[1]"
   ]
  },
  {
   "cell_type": "code",
   "execution_count": 4,
   "metadata": {},
   "outputs": [
    {
     "data": {
      "text/plain": [
       "x^9 - 1"
      ]
     },
     "execution_count": 4,
     "metadata": {},
     "output_type": "execute_result"
    }
   ],
   "source": [
    "g[7]"
   ]
  },
  {
   "cell_type": "code",
   "execution_count": 5,
   "metadata": {},
   "outputs": [],
   "source": [
    "h = []"
   ]
  },
  {
   "cell_type": "code",
   "execution_count": 6,
   "metadata": {},
   "outputs": [
    {
     "ename": "IndexError",
     "evalue": "list assignment index out of range",
     "output_type": "error",
     "traceback": [
      "\u001b[0;31m---------------------------------------------------------------------------\u001b[0m",
      "\u001b[0;31mIndexError\u001b[0m                                Traceback (most recent call last)",
      "\u001b[0;32m<ipython-input-6-abb3c716656c>\u001b[0m in \u001b[0;36m<module>\u001b[0;34m\u001b[0m\n\u001b[0;32m----> 1\u001b[0;31m \u001b[0mh\u001b[0m\u001b[0;34m[\u001b[0m\u001b[0mInteger\u001b[0m\u001b[0;34m(\u001b[0m\u001b[0;36m0\u001b[0m\u001b[0;34m)\u001b[0m\u001b[0;34m]\u001b[0m \u001b[0;34m=\u001b[0m \u001b[0mInteger\u001b[0m\u001b[0;34m(\u001b[0m\u001b[0;36m1\u001b[0m\u001b[0;34m)\u001b[0m\u001b[0;34m\u001b[0m\u001b[0;34m\u001b[0m\u001b[0m\n\u001b[0m",
      "\u001b[0;31mIndexError\u001b[0m: list assignment index out of range"
     ]
    }
   ],
   "source": [
    "h[0] = 1"
   ]
  },
  {
   "cell_type": "code",
   "execution_count": 10,
   "metadata": {},
   "outputs": [],
   "source": [
    "h = matrix([1,8]);"
   ]
  },
  {
   "cell_type": "code",
   "execution_count": 11,
   "metadata": {},
   "outputs": [],
   "source": [
    "h[0] = x**0;"
   ]
  },
  {
   "cell_type": "code",
   "execution_count": 13,
   "metadata": {},
   "outputs": [
    {
     "data": {
      "text/plain": [
       "1"
      ]
     },
     "execution_count": 13,
     "metadata": {},
     "output_type": "execute_result"
    }
   ],
   "source": [
    "h[0,0]"
   ]
  },
  {
   "cell_type": "code",
   "execution_count": 93,
   "metadata": {},
   "outputs": [],
   "source": [
    "F.<x> = GF(2)[]\n",
    "var('x');\n",
    "g    = vector((x**0, \n",
    "     x-1,\n",
    "     x**2 + x + 1, \n",
    "     x**6 + x**3 + 1,\n",
    "     x**3 + 1,\n",
    "     x**7 - x**6 + x**4 - x**3 + x - 1,\n",
    "     x**8 + x**7 + x**6 + x**5 + x**4 - x**3 + x**2 + x + 1,\n",
    "     x**9 - 1));\n",
    "\n",
    "n = 9;\n"
   ]
  },
  {
   "cell_type": "code",
   "execution_count": 94,
   "metadata": {},
   "outputs": [
    {
     "data": {
      "text/plain": [
       "1"
      ]
     },
     "execution_count": 94,
     "metadata": {},
     "output_type": "execute_result"
    }
   ],
   "source": [
    "g[0]"
   ]
  },
  {
   "cell_type": "code",
   "execution_count": 95,
   "metadata": {},
   "outputs": [
    {
     "ename": "ValueError",
     "evalue": "The generator polynomial must be defined over a finite field.",
     "output_type": "error",
     "traceback": [
      "\u001b[0;31m---------------------------------------------------------------------------\u001b[0m",
      "\u001b[0;31mValueError\u001b[0m                                Traceback (most recent call last)",
      "\u001b[0;32m<ipython-input-95-e2efb38dbd87>\u001b[0m in \u001b[0;36m<module>\u001b[0;34m\u001b[0m\n\u001b[1;32m     14\u001b[0m \u001b[0;34m\u001b[0m\u001b[0m\n\u001b[1;32m     15\u001b[0m \u001b[0mg0\u001b[0m \u001b[0;34m=\u001b[0m \u001b[0mx\u001b[0m\u001b[0;34m**\u001b[0m\u001b[0mInteger\u001b[0m\u001b[0;34m(\u001b[0m\u001b[0;36m0\u001b[0m\u001b[0;34m)\u001b[0m\u001b[0;34m\u001b[0m\u001b[0;34m\u001b[0m\u001b[0m\n\u001b[0;32m---> 16\u001b[0;31m \u001b[0mC\u001b[0m \u001b[0;34m=\u001b[0m \u001b[0mcodes\u001b[0m\u001b[0;34m.\u001b[0m\u001b[0mCyclicCode\u001b[0m\u001b[0;34m(\u001b[0m\u001b[0mgenerator_pol\u001b[0m \u001b[0;34m=\u001b[0m \u001b[0mg\u001b[0m\u001b[0;34m[\u001b[0m\u001b[0mInteger\u001b[0m\u001b[0;34m(\u001b[0m\u001b[0;36m0\u001b[0m\u001b[0;34m)\u001b[0m\u001b[0;34m]\u001b[0m\u001b[0;34m,\u001b[0m \u001b[0mlength\u001b[0m \u001b[0;34m=\u001b[0m \u001b[0mn\u001b[0m\u001b[0;34m)\u001b[0m\u001b[0;34m\u001b[0m\u001b[0;34m\u001b[0m\u001b[0m\n\u001b[0m\u001b[1;32m     17\u001b[0m \u001b[0mh\u001b[0m\u001b[0;34m[\u001b[0m\u001b[0mInteger\u001b[0m\u001b[0;34m(\u001b[0m\u001b[0;36m0\u001b[0m\u001b[0;34m)\u001b[0m\u001b[0;34m]\u001b[0m \u001b[0;34m=\u001b[0m \u001b[0mC\u001b[0m\u001b[0;34m.\u001b[0m\u001b[0mcheck_polynomial\u001b[0m\u001b[0;34m(\u001b[0m\u001b[0;34m)\u001b[0m\u001b[0;34m\u001b[0m\u001b[0;34m\u001b[0m\u001b[0m\n\u001b[1;32m     18\u001b[0m \u001b[0mC\u001b[0m\u001b[0;34m.\u001b[0m\u001b[0mparity_check_matrix\u001b[0m\u001b[0;34m(\u001b[0m\u001b[0;34m)\u001b[0m\u001b[0;34m\u001b[0m\u001b[0;34m\u001b[0m\u001b[0m\n",
      "\u001b[0;32m/opt/SageMath/local/lib/python3.8/site-packages/sage/coding/cyclic_code.py\u001b[0m in \u001b[0;36m__init__\u001b[0;34m(self, generator_pol, length, code, check, D, field, primitive_root)\u001b[0m\n\u001b[1;32m    380\u001b[0m             \u001b[0mF\u001b[0m \u001b[0;34m=\u001b[0m \u001b[0mgenerator_pol\u001b[0m\u001b[0;34m.\u001b[0m\u001b[0mbase_ring\u001b[0m\u001b[0;34m(\u001b[0m\u001b[0;34m)\u001b[0m\u001b[0;34m\u001b[0m\u001b[0;34m\u001b[0m\u001b[0m\n\u001b[1;32m    381\u001b[0m             \u001b[0;32mif\u001b[0m \u001b[0;32mnot\u001b[0m \u001b[0mF\u001b[0m\u001b[0;34m.\u001b[0m\u001b[0mis_finite\u001b[0m\u001b[0;34m(\u001b[0m\u001b[0;34m)\u001b[0m \u001b[0;32mor\u001b[0m \u001b[0;32mnot\u001b[0m \u001b[0mF\u001b[0m\u001b[0;34m.\u001b[0m\u001b[0mis_field\u001b[0m\u001b[0;34m(\u001b[0m\u001b[0;34m)\u001b[0m\u001b[0;34m:\u001b[0m\u001b[0;34m\u001b[0m\u001b[0;34m\u001b[0m\u001b[0m\n\u001b[0;32m--> 382\u001b[0;31m                 raise ValueError(\"The generator polynomial must be defined \"\n\u001b[0m\u001b[1;32m    383\u001b[0m                                  \"over a finite field.\")\n\u001b[1;32m    384\u001b[0m             \u001b[0mq\u001b[0m \u001b[0;34m=\u001b[0m \u001b[0mF\u001b[0m\u001b[0;34m.\u001b[0m\u001b[0mcardinality\u001b[0m\u001b[0;34m(\u001b[0m\u001b[0;34m)\u001b[0m\u001b[0;34m\u001b[0m\u001b[0;34m\u001b[0m\u001b[0m\n",
      "\u001b[0;31mValueError\u001b[0m: The generator polynomial must be defined over a finite field."
     ]
    }
   ],
   "source": [
    " F.<x> = GF(2)[]\n",
    " var('x')\n",
    " g    = [x**0, \n",
    "         x-1,\n",
    "         x**2 + x + 1, \n",
    "         x**6 + x**3 + 1,\n",
    "         x**3 + 1,\n",
    "         x**7 - x**6 + x**4 - x**3 + x - 1,\n",
    "         x**8 + x**7 + x**6 + x**5 + x**4 - x**3 + x**2 + x + 1,\n",
    "         x**9 - 1]\n",
    "\n",
    " n = 9\n",
    " h = []\n",
    " \n",
    " g0 = x**0\n",
    " C = codes.CyclicCode(generator_pol = g[0], length = n)\n",
    " h[0] = C.check_polynomial()\n",
    " C.parity_check_matrix()\n",
    " \n",
    " g1 = x - 1\n",
    " C = codes.CyclicCode(generator_pol = g1, length = n)\n",
    " h1 = C.check_polynomial()\n",
    " \n",
    " g2 = x**2 + x + 1 \n",
    " C = codes.CyclicCode(generator_pol = g2, length = n)\n",
    " h2 = C.check_polynomial()\n",
    " \n",
    " g3 = x**6 + x**3 + 1\n",
    " C = codes.CyclicCode(generator_pol = g3, length = n)\n",
    " h3 = C.check_polynomial()\n",
    "  \n",
    " g4 = x**3 + 1\n",
    " C = codes.CyclicCode(generator_pol = g4, length = n)\n",
    " h4 = C.check_polynomial()\n",
    "   \n",
    " g5 = x**7 - x**6 + x**4 - x**3 + x - 1\n",
    " C = codes.CyclicCode(generator_pol = g5, length = n)\n",
    " h5 = C.check_polynomial()\n",
    "    \n",
    " g6 = x**8 + x**7 + x**6 + x**5 + x**4 - x**3 + x**2 + x + 1\n",
    " C = codes.CyclicCode(generator_pol = g6, length = n)\n",
    " h6 = C.check_polynomial()\n",
    "     \n",
    " g7 = x**9 - 1\n",
    " C = codes.CyclicCode(generator_pol = g7, length = n)\n",
    " h7 = C.check_polynomial()"
   ]
  },
  {
   "cell_type": "code",
   "execution_count": 134,
   "metadata": {},
   "outputs": [],
   "source": [
    "var('x')\n",
    "eqns = [x**0, \n",
    "     x-1,\n",
    "     x**2 + x + 1, \n",
    "     x**6 + x**3 + 1,\n",
    "     x**3 + 1,\n",
    "     x**7 - x**6 + x**4 - x**3 + x - 1,\n",
    "     x**8 + x**7 + x**6 + x**5 + x**4 - x**3 + x**2 + x + 1,\n",
    "     x**9 - 1]\n",
    "F.<x> = GF(2)[]\n",
    "n = 9\n",
    "\n",
    "g0 = x**0\n",
    "C = codes.CyclicCode(generator_pol = g0, length = n)\n",
    "E = codes.encoders.CyclicCodeVectorEncoder(C)\n",
    "h0 = C.check_polynomial()\n",
    "p0 = C.parity_check_matrix()\n",
    "m0 =E.generator_matrix()\n",
    "\n",
    "g1 = x - 1\n",
    "C = codes.CyclicCode(generator_pol = g1, length = n)\n",
    "h1 = C.check_polynomial()\n",
    "p1 = C.parity_check_matrix()\n",
    "\n",
    "g2 = x**2 + x + 1 \n",
    "C = codes.CyclicCode(generator_pol = g2, length = n)\n",
    "h2 = C.check_polynomial()\n",
    "p2 = C.parity_check_matrix()\n",
    "\n",
    "g3 = x**6 + x**3 + 1\n",
    "C = codes.CyclicCode(generator_pol = g3, length = n)\n",
    "h3 = C.check_polynomial()\n",
    "p3 = C.parity_check_matrix()\n",
    "\n",
    "g4 = x**3 + 1\n",
    "C = codes.CyclicCode(generator_pol = g4, length = n)\n",
    "h4 = C.check_polynomial()\n",
    "p4 = C.parity_check_matrix()\n",
    "\n",
    "g5 = x**7 - x**6 + x**4 - x**3 + x - 1\n",
    "C = codes.CyclicCode(generator_pol = g5, length = n)\n",
    "h5 = C.check_polynomial()\n",
    "p5 = C.parity_check_matrix()\n",
    "\n",
    "g6 = x**8 + x**7 + x**6 + x**5 + x**4 - x**3 + x**2 + x + 1\n",
    "C = codes.CyclicCode(generator_pol = g6, length = n)\n",
    "h6 = C.check_polynomial()\n",
    "p6 = C.parity_check_matrix()\n",
    "\n",
    "g7 = x**9 - 1\n",
    "C = codes.CyclicCode(generator_pol = g7, length = n)\n",
    "h7 = C.check_polynomial()\n",
    "p7 = C.parity_check_matrix()"
   ]
  },
  {
   "cell_type": "code",
   "execution_count": 126,
   "metadata": {},
   "outputs": [
    {
     "data": {
      "text/plain": [
       "[]"
      ]
     },
     "execution_count": 126,
     "metadata": {},
     "output_type": "execute_result"
    }
   ],
   "source": [
    "p0"
   ]
  },
  {
   "cell_type": "code",
   "execution_count": 127,
   "metadata": {},
   "outputs": [
    {
     "data": {
      "text/plain": [
       "[1 1 1 1 1 1 1 1 1]"
      ]
     },
     "execution_count": 127,
     "metadata": {},
     "output_type": "execute_result"
    }
   ],
   "source": [
    "p1"
   ]
  },
  {
   "cell_type": "code",
   "execution_count": 128,
   "metadata": {},
   "outputs": [
    {
     "data": {
      "text/plain": [
       "[1 1 0 1 1 0 1 1 0]\n",
       "[0 1 1 0 1 1 0 1 1]"
      ]
     },
     "execution_count": 128,
     "metadata": {},
     "output_type": "execute_result"
    }
   ],
   "source": [
    "p2"
   ]
  },
  {
   "cell_type": "code",
   "execution_count": 129,
   "metadata": {},
   "outputs": [
    {
     "data": {
      "text/plain": [
       "[1 0 0 1 0 0 0 0 0]\n",
       "[0 1 0 0 1 0 0 0 0]\n",
       "[0 0 1 0 0 1 0 0 0]\n",
       "[0 0 0 1 0 0 1 0 0]\n",
       "[0 0 0 0 1 0 0 1 0]\n",
       "[0 0 0 0 0 1 0 0 1]"
      ]
     },
     "execution_count": 129,
     "metadata": {},
     "output_type": "execute_result"
    }
   ],
   "source": [
    "p3"
   ]
  },
  {
   "cell_type": "code",
   "execution_count": 130,
   "metadata": {},
   "outputs": [
    {
     "data": {
      "text/plain": [
       "[1 0 0 1 0 0 1 0 0]\n",
       "[0 1 0 0 1 0 0 1 0]\n",
       "[0 0 1 0 0 1 0 0 1]"
      ]
     },
     "execution_count": 130,
     "metadata": {},
     "output_type": "execute_result"
    }
   ],
   "source": [
    "p4"
   ]
  },
  {
   "cell_type": "code",
   "execution_count": 131,
   "metadata": {},
   "outputs": [
    {
     "data": {
      "text/plain": [
       "[1 1 1 0 0 0 0 0 0]\n",
       "[0 1 1 1 0 0 0 0 0]\n",
       "[0 0 1 1 1 0 0 0 0]\n",
       "[0 0 0 1 1 1 0 0 0]\n",
       "[0 0 0 0 1 1 1 0 0]\n",
       "[0 0 0 0 0 1 1 1 0]\n",
       "[0 0 0 0 0 0 1 1 1]"
      ]
     },
     "execution_count": 131,
     "metadata": {},
     "output_type": "execute_result"
    }
   ],
   "source": [
    "p5"
   ]
  },
  {
   "cell_type": "code",
   "execution_count": 132,
   "metadata": {},
   "outputs": [
    {
     "data": {
      "text/plain": [
       "[1 1 0 0 0 0 0 0 0]\n",
       "[0 1 1 0 0 0 0 0 0]\n",
       "[0 0 1 1 0 0 0 0 0]\n",
       "[0 0 0 1 1 0 0 0 0]\n",
       "[0 0 0 0 1 1 0 0 0]\n",
       "[0 0 0 0 0 1 1 0 0]\n",
       "[0 0 0 0 0 0 1 1 0]\n",
       "[0 0 0 0 0 0 0 1 1]"
      ]
     },
     "execution_count": 132,
     "metadata": {},
     "output_type": "execute_result"
    }
   ],
   "source": [
    "p6"
   ]
  },
  {
   "cell_type": "code",
   "execution_count": 133,
   "metadata": {},
   "outputs": [
    {
     "data": {
      "text/plain": [
       "[1 0 0 0 0 0 0 0 0]\n",
       "[0 1 0 0 0 0 0 0 0]\n",
       "[0 0 1 0 0 0 0 0 0]\n",
       "[0 0 0 1 0 0 0 0 0]\n",
       "[0 0 0 0 1 0 0 0 0]\n",
       "[0 0 0 0 0 1 0 0 0]\n",
       "[0 0 0 0 0 0 1 0 0]\n",
       "[0 0 0 0 0 0 0 1 0]\n",
       "[0 0 0 0 0 0 0 0 1]"
      ]
     },
     "execution_count": 133,
     "metadata": {},
     "output_type": "execute_result"
    }
   ],
   "source": [
    "p7"
   ]
  },
  {
   "cell_type": "code",
   "execution_count": 135,
   "metadata": {},
   "outputs": [
    {
     "data": {
      "text/plain": [
       "[1 0 0 0 0 0 0 0 0]\n",
       "[0 1 0 0 0 0 0 0 0]\n",
       "[0 0 1 0 0 0 0 0 0]\n",
       "[0 0 0 1 0 0 0 0 0]\n",
       "[0 0 0 0 1 0 0 0 0]\n",
       "[0 0 0 0 0 1 0 0 0]\n",
       "[0 0 0 0 0 0 1 0 0]\n",
       "[0 0 0 0 0 0 0 1 0]\n",
       "[0 0 0 0 0 0 0 0 1]"
      ]
     },
     "execution_count": 135,
     "metadata": {},
     "output_type": "execute_result"
    }
   ],
   "source": [
    "m0"
   ]
  },
  {
   "cell_type": "code",
   "execution_count": 136,
   "metadata": {},
   "outputs": [],
   "source": [
    "# Hello world!;"
   ]
  },
  {
   "cell_type": "code",
   "execution_count": 144,
   "metadata": {},
   "outputs": [
    {
     "data": {
      "text/plain": [
       "[0 0 0 0 0 0 0 0 0]"
      ]
     },
     "execution_count": 144,
     "metadata": {},
     "output_type": "execute_result"
    }
   ],
   "source": [
    "zero_matrix(ZZ, 1, 9)"
   ]
  },
  {
   "cell_type": "code",
   "execution_count": 145,
   "metadata": {},
   "outputs": [
    {
     "data": {
      "text/plain": [
       "[0 0 0 0 0 0 0 0 0]"
      ]
     },
     "execution_count": 145,
     "metadata": {},
     "output_type": "execute_result"
    }
   ],
   "source": [
    " M = zero_matrix(1, 9); M"
   ]
  },
  {
   "cell_type": "code",
   "execution_count": null,
   "metadata": {},
   "outputs": [],
   "source": []
  }
 ],
 "metadata": {
  "kernelspec": {
   "display_name": "SageMath 9.2",
   "language": "sage",
   "name": "sagemath"
  },
  "language_info": {
   "codemirror_mode": {
    "name": "ipython",
    "version": 3
   },
   "file_extension": ".py",
   "mimetype": "text/x-python",
   "name": "python",
   "nbconvert_exporter": "python",
   "pygments_lexer": "ipython3",
   "version": "3.8.5"
  }
 },
 "nbformat": 4,
 "nbformat_minor": 4
}
